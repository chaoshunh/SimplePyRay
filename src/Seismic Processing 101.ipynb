{
 "metadata": {
  "name": "",
  "signature": "sha256:47caf306c2c51c323516e46457e75f7d3efd20fa90739baa9ee3b329d8c9b52b"
 },
 "nbformat": 3,
 "nbformat_minor": 0,
 "worksheets": [
  {
   "cells": [
    {
     "cell_type": "heading",
     "level": 1,
     "metadata": {
      "slideshow": {
       "slide_type": "-"
      }
     },
     "source": [
      "Seismic Processing 101"
     ]
    },
    {
     "cell_type": "markdown",
     "metadata": {
      "slideshow": {
       "slide_type": "-"
      }
     },
     "source": [
      "##What is Seismic Processing?\n",
      "Seismic exploration uses seismic waves to explore the subsurface. The resulting raw data does not have much in common with the actual subsurface, and also has unwanted signals (noise).  Seismic Processing attempts to remove noise, and create a seismic image which can be related to the geology of the subsurface.\n",
      "\n"
     ]
    },
    {
     "cell_type": "markdown",
     "metadata": {
      "slideshow": {
       "slide_type": "-"
      }
     },
     "source": [
      "##What are we going to process?\n",
      "We are going to build or own synthetic seismic data.  I could supply actual raw seismic data, but there is a significant advantage to using synthetic data - we know what the answer should be before we start."
     ]
    },
    {
     "cell_type": "markdown",
     "metadata": {},
     "source": [
      "##What kind of model?\n",
      "The kind of model we are going to build is based upon the \"Convolutional Model\" (Yilmaz, \u00d6zdo\u011fan. Seismic data analysis. Vol. 1. Tulsa: Society of Exploration Geophysicists, 2001.)\n",
      "\n",
      "This is only one type of model.  Another type of model might be a finite difference model, which uses the partial differential wave equation to model seismic waves propogating through a medium.\n",
      "\n",
      "The convolutional model of the seismic trace states that the trace we record is the result of the earth's reflectivity \n",
      "(what we want) convolved with the source wavelet, the recording system and some noise.\n",
      "\n",
      "ie. \n",
      "\n",
      "$$E * S * R + N$$\n",
      "\n",
      "where\n",
      "\n",
      "* E = earth reflection series\n",
      "\n",
      "* S = source wavelet\n",
      "\n",
      "* R = receiver function\n",
      "\n",
      "* N = noise\n",
      "\n",
      "* \\* = convolution\n"
     ]
    },
    {
     "cell_type": "code",
     "collapsed": false,
     "input": [
      "import toolbox\n",
      "print dir(toolbox)"
     ],
     "language": "python",
     "metadata": {},
     "outputs": [
      {
       "output_type": "stream",
       "stream": "stdout",
       "text": [
        "['__builtins__', '__doc__', '__file__', '__name__', '__package__', 'build_wavelet', 'np']\n"
       ]
      }
     ],
     "prompt_number": 6
    },
    {
     "cell_type": "markdown",
     "metadata": {},
     "source": [
      "##What is convolution?\n",
      "\n",
      "Wikipedia defines convolution as \"the integral of the product of the two functions after one is reversed and shifted\" (http://en.wikipedia.org/wiki/Convolution). This definition is succinct, exact, but not obvious.\n",
      "\n",
      "To convolve is to roll together, so convolution can be though of as \"rolling\" two signals together, and is usually denoted by (*)."
     ]
    },
    {
     "cell_type": "markdown",
     "metadata": {},
     "source": [
      "#Building the Source wavelet\n",
      "\n",
      "I'm building the source wavelet by band-limiting a spike in the frequency domain.  The result is known as a \"klauder wavelet\", a wavelet which is produced when you use vibroseis as a source.  \n",
      "\n",
      "There is some good geophysical signal processing theory involved in this, but I dont expect you to write this code, the function \n",
      "```python\n",
      "wavelet = build_wavelet(low,high)\n",
      "``` \n",
      "has been supplied in the file toolbox.py\n"
     ]
    },
    {
     "cell_type": "code",
     "collapsed": false,
     "input": [
      "import numpy as np\n",
      "%pylab inline\n",
      "\n",
      "def build_wavelet(lowcut, highcut, ns=200, dt = 0.001):\n",
      "    '''builds a band limited zero\n",
      "    phase wavelet by filtering in the \n",
      "    frequency domain. quick and dirty - \n",
      "    i've used a smoother to reduce \n",
      "    wavelet ring\n",
      "\n",
      "    use:\n",
      "    low = 5. #hz\n",
      "    high = 140. #hz\n",
      "    wavelet = build_wavelet(low, high)\n",
      "    '''\n",
      "\n",
      "    signal = np.zeros(ns)\n",
      "    signal[np.int(ns/2.)] = 1.0\n",
      "    fft = np.fft.fft(signal)\n",
      "    n = signal.size\n",
      "    timestep = dt\n",
      "    freq = np.fft.fftfreq(n, d=timestep)\n",
      "    filter = (lowcut < np.abs(freq)) & (np.abs(freq) < highcut)\n",
      "    filter = np.convolve(filter, np.ones(100, 'f')/100., mode='same')\n",
      "    fft *= filter\n",
      "    signal=np.fft.ifft(fft)\n",
      "    return signal.real\n",
      "\n",
      "low = 5. #hz\n",
      "high = 140. #hz\n",
      "wavelet = build_wavelet(low, high)\n",
      "pylab.plot(wavelet)\n"
     ],
     "language": "python",
     "metadata": {},
     "outputs": [
      {
       "output_type": "stream",
       "stream": "stdout",
       "text": [
        "Populating the interactive namespace from numpy and matplotlib\n"
       ]
      },
      {
       "metadata": {},
       "output_type": "pyout",
       "prompt_number": 4,
       "text": [
        "[<matplotlib.lines.Line2D at 0x442fe90>]"
       ]
      },
      {
       "metadata": {},
       "output_type": "display_data",
       "png": "[encoded data removed]",
       "text": [
        "<matplotlib.figure.Figure at 0x3539890>"
       ]
      }
     ],
     "prompt_number": 4
    }
   ],
   "metadata": {}
  }
 ]
}