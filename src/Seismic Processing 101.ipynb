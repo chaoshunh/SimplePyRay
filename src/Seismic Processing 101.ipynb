{
 "metadata": {
  "celltoolbar": "Raw Cell Format",
  "name": "",
  "signature": "sha256:1fff25ad153a8ccda3f27e82e5ff47426add00c55077bf006be7a0c15dc669c8"
 },
 "nbformat": 3,
 "nbformat_minor": 0,
 "worksheets": [
  {
   "cells": [
    {
     "cell_type": "code",
     "collapsed": false,
     "input": [
      "%pylab inline\n",
      "pylab.rcParams['figure.figsize'] = (10.0, 8.0)\n",
      "import toolbox\n",
      "import numpy as np\n",
      "from IPython.display import HTML\n",
      "print dir(toolbox)\n",
      "import su"
     ],
     "language": "python",
     "metadata": {},
     "outputs": [
      {
       "output_type": "stream",
       "stream": "stdout",
       "text": [
        "Populating the interactive namespace from numpy and matplotlib\n",
        "['__builtins__', '__doc__', '__file__', '__name__', '__package__', 'agc_func', 'build_model', 'build_wavelet', 'find_points', 'np', 'pylab', 'traveltime']\n"
       ]
      }
     ],
     "prompt_number": 1
    },
    {
     "cell_type": "markdown",
     "metadata": {},
     "source": [
      "#Seismic Processing 101"
     ]
    },
    {
     "cell_type": "markdown",
     "metadata": {},
     "source": [
      "##Seismic Exploration - Background"
     ]
    },
    {
     "cell_type": "markdown",
     "metadata": {
      "slideshow": {
       "slide_type": "-"
      }
     },
     "source": [
      "##What is Seismic Processing?\n",
      "Seismic exploration uses seismic waves to explore the subsurface. The resulting raw data does not have much in common with the actual subsurface, and also has unwanted signals (noise).  Seismic processing attempts to remove noise, and create a seismic image which can be related to the geology of the subsurface.\n",
      "\n"
     ]
    },
    {
     "cell_type": "markdown",
     "metadata": {
      "slideshow": {
       "slide_type": "-"
      }
     },
     "source": [
      "##What are we going to process?\n",
      "We are going to build or own synthetic seismic data.  I could supply actual raw seismic data, but there is a significant advantage to using synthetic data - we know what the answer should be before we start."
     ]
    },
    {
     "cell_type": "markdown",
     "metadata": {},
     "source": [
      "##What kind of model?\n",
      "The kind of model we are going to build is based upon the \"Convolutional Model\" \n",
      "\n",
      "![](http://1.bp.blogspot.com/-oqLC11dSG-I/U2VSXKKPpNI/AAAAAAAAArc/AukcW-wxGaA/s1600/convolution.png)\n",
      "\n",
      "This is only one type of model.  Another type of model might be a finite difference model, which uses the partial differential wave equation to model seismic waves propogating through a medium.\n",
      "\n",
      "The convolutional model of the seismic trace states that the trace we record is the result of the earth's reflectivity \n",
      "(what we want) convolved with the source wavelet, the recording system and some noise.\n",
      "\n",
      "ie. \n",
      "\n",
      "$$E * S * R + N$$\n",
      "\n",
      "where\n",
      "\n",
      "* E = earth reflection series\n",
      "\n",
      "* S = source wavelet\n",
      "\n",
      "* R = receiver function\n",
      "\n",
      "* N = noise\n",
      "\n",
      "* \\* = convolution\n"
     ]
    },
    {
     "cell_type": "markdown",
     "metadata": {},
     "source": [
      "##What is convolution?"
     ]
    },
    {
     "cell_type": "code",
     "collapsed": false,
     "input": [
      "HTML('<iframe src=http://en.wikipedia.org/wiki/Convolution#Definition width=1000 height=240</iframe>')"
     ],
     "language": "python",
     "metadata": {},
     "outputs": [
      {
       "html": [
        "<iframe src=http://en.wikipedia.org/wiki/Convolution#Definition width=1000 height=240</iframe>"
       ],
       "metadata": {},
       "output_type": "pyout",
       "prompt_number": 2,
       "text": [
        "<IPython.core.display.HTML at 0x7f21c069f510>"
       ]
      }
     ],
     "prompt_number": 2
    },
    {
     "cell_type": "markdown",
     "metadata": {},
     "source": [
      "To convolve is to roll together, so convolution can be though of as \"rolling\" two signals together, and is usually denoted by (*)."
     ]
    },
    {
     "cell_type": "markdown",
     "metadata": {},
     "source": [
      "##Building the Source wavelet\n",
      "\n",
      "I'm building the source wavelet by band-limiting a spike in the frequency domain.  The result is known as a \"klauder wavelet\", a wavelet which is produced when you use vibroseis as a source.  \n",
      "\n",
      "There is some good geophysical signal processing theory involved in this, but I dont expect you to write this code, the function \n",
      "```python\n",
      "wavelet = build_wavelet(low,high)\n",
      "``` \n",
      "has been supplied in the file toolbox.py\n"
     ]
    },
    {
     "cell_type": "code",
     "collapsed": false,
     "input": [
      "from toolbox import build_wavelet\n",
      "\n",
      "low = 2. #hz\n",
      "high = 60. #hz\n",
      "wavelet = np.convolve(np.ones(3)/3., build_wavelet(low, high)[75:125], mode='same')\n",
      "\n",
      "xaxis = np.arange(50)/1000.\n",
      "pylab.plot(xaxis, wavelet)\n",
      "pylab.ylabel('amplitude')\n",
      "pylab.xlabel('time')\n",
      "pylab.title('Line plot of klauder wavelet')\n",
      "\n",
      "pylab.figure()\n",
      "pylab.plot(xaxis, wavelet, 'bo')\n",
      "pylab.ylabel('amplitude')\n",
      "pylab.xlabel('time')\n",
      "pylab.title('Discrete plot of klauder wavelet')\n"
     ],
     "language": "python",
     "metadata": {},
     "outputs": [
      {
       "metadata": {},
       "output_type": "pyout",
       "prompt_number": 17,
       "text": [
        "<matplotlib.text.Text at 0x7f21a68c8510>"
       ]
      },
      {
       "metadata": {},
       "output_type": "display_data",
       "png": "[encoded data removed]",
       "text": [
        "<matplotlib.figure.Figure at 0x7f21a6aeccd0>"
       ]
      },
      {
       "metadata": {},
       "output_type": "display_data",
       "png": "[encoded data removed]",
       "text": [
        "<matplotlib.figure.Figure at 0x7f21a6aec950>"
       ]
      }
     ],
     "prompt_number": 17
    },
    {
     "cell_type": "markdown",
     "metadata": {},
     "source": [
      "#Building the Earth Reflection Series"
     ]
    },
    {
     "cell_type": "markdown",
     "metadata": {},
     "source": [
      "Seismic waves travel from the source, bounce off the reflection point and travel back up to the geophone. \n",
      "\n",
      "![](http://www.oilinuganda.org/wp-content/media/2013/06/Seismic-Illustration1.bmp)\n",
      "\n",
      "So the two things we need to build our synthetic record is the time from the source to the refelction point to the geophone (two way travel time) and the amplitude of the wave at the geophone."
     ]
    },
    {
     "cell_type": "markdown",
     "metadata": {},
     "source": [
      "#Two-way Travel Time\n",
      "\n",
      "![](images/two-way.png)\n",
      "\n"
     ]
    },
    {
     "cell_type": "markdown",
     "metadata": {},
     "source": [
      "##Exersize 1 - Write a function to calculate 2-way travel time to a point\n",
      "\n",
      "Given the following variables,\n",
      "\n",
      "* sx = source x coordinate (metres)\n",
      "* gx = reciever x coordinate (metres)\n",
      "* v = velocity of medium\n",
      "* z = reflection point depth\n",
      "\n",
      "Calculate the travel time from the source (\\*) to the reciever (v)\n",
      "\n"
     ]
    },
    {
     "cell_type": "code",
     "collapsed": false,
     "input": [
      "def traveltime(sx, gx, v, z):\n",
      "    h = gx - sx\n",
      "    v = float(v)\n",
      "    distance = np.sqrt(h*h + z*z)\n",
      "    time = 2.0*distance/v\n",
      "    return time\n",
      "    "
     ],
     "language": "python",
     "metadata": {},
     "outputs": [],
     "prompt_number": 4
    },
    {
     "cell_type": "markdown",
     "metadata": {},
     "source": [
      "#Recorder Amplitude"
     ]
    },
    {
     "cell_type": "code",
     "collapsed": false,
     "input": [
      "def diverge(distance):\n",
      "    return np.abs(1.0/(distance*distance))"
     ],
     "language": "python",
     "metadata": {},
     "outputs": [],
     "prompt_number": 5
    },
    {
     "cell_type": "markdown",
     "metadata": {},
     "source": [
      "##Definition: reflection coefficient\n",
      "\n",
      "The ratio of amplitude of the reflected wave to the incident wave, or how much energy is reflected. \n",
      "\n",
      "If the wave has **normal** incidence, then its reflection coefficient can be expressed as:\n",
      "\n",
      "$$ R = \\frac{(\\rho_2V_2 - \\rho_1V_1)}{(\\rho_2V_2 + \\rho_1V_1)} $$\n",
      "\n",
      "$\\rho V$ is often referred to as the accoustic impedance \"Z\".\n",
      "\n",
      "One regular use is to generate seismograms\n",
      "\n",
      "<a href=\"http://jgs.lyellcollection.org/content/167/6/1225/F6.large.jpg\" target=\"_blank\">Example Seismogram</a>\n",
      "\n"
     ]
    },
    {
     "cell_type": "markdown",
     "metadata": {},
     "source": [
      "At non-normal incidence, the reflection coefficient defined as a ratio of amplitudes depends on other parameters, such as the shear velocities, and is described as a function of incident angle by the Zoeppritz equations."
     ]
    },
    {
     "cell_type": "code",
     "collapsed": false,
     "input": [
      "HTML('<iframe src=http://subsurfwiki.org/wiki/Zoeppritz_equation width=1000 height=800</iframe>')"
     ],
     "language": "python",
     "metadata": {},
     "outputs": [
      {
       "html": [
        "<iframe src=http://subsurfwiki.org/wiki/Zoeppritz_equation width=1000 height=800</iframe>"
       ],
       "metadata": {},
       "output_type": "pyout",
       "prompt_number": 6,
       "text": [
        "<IPython.core.display.HTML at 0x7f21c06a9850>"
       ]
      }
     ],
     "prompt_number": 6
    },
    {
     "cell_type": "markdown",
     "metadata": {},
     "source": [
      "We can examine the effect of angle of incidence using the <a href=\"http://www.crewes.org/ResearchLinks/ExplorerPrograms/ZE/ZEcrewes2_2.html\" target=\"_blank\">CREWES Zoeppritz Explorer</a>."
     ]
    },
    {
     "cell_type": "markdown",
     "metadata": {},
     "source": [
      "## Earth Model\n",
      "\n",
      "The Zoeppritz equations are fairly complex to implement and not very intuitive. There are a number of approximations available.  You can see the Aki-Richards approximation in action in the CREWES Zoeppritz Explorer. An even simpler approximation is the  <a href=\"http://subsurfwiki.org/wiki/Shuey_equation\" target=\"_blank\">Shuey equation</a>. You are going to use the Shuey equation to calculate the amplitudes in the synthetic model. \n"
     ]
    },
    {
     "cell_type": "markdown",
     "metadata": {},
     "source": [
      "##Exersize 1 - Write a function which implements the Shuey Equation for a single shot-reciever pair in a simple 2 layer model\n",
      "\n",
      "Create a simple 2-layer model. Define Vp, Vs and density for each layer.  Implement the Shuey Equation for a single shot-geophone pair. Plug in the same numbers into Zoeppritz explorer to confirm correctness."
     ]
    },
    {
     "cell_type": "code",
     "collapsed": false,
     "input": [
      "def reflection_coefficient(z0, z1):\n",
      "    z = ((z1 - z0)**2)/(z1+z0)**2\n",
      "    if z1 < z0: z*= -1\n",
      "    return z\n",
      "\n",
      "def transmission_coefficient(z0, z1):\n",
      "    return (4*z0*z1)/((z1+z0)**2)"
     ],
     "language": "python",
     "metadata": {},
     "outputs": [],
     "prompt_number": 7
    },
    {
     "cell_type": "markdown",
     "metadata": {},
     "source": [
      "## Exersize 2 - Loop over a range of geophones\n",
      "\n",
      "Assume we have a single shot, and a line of geophones. The angle to each geophone will be different, resulting in a different solution to the Shuey Equations. Take the code from Exersize 1 and loop it over a range of geophones (still in the simple 2 layer case).\n",
      "\n"
     ]
    },
    {
     "cell_type": "code",
     "collapsed": false,
     "input": [
      "#define survey geometry, ie shot and reciever points\n",
      "sx_coords = [120] #np.arange(99)+0.5\n",
      "rx_coords = np.arange(500)\n",
      "\n",
      "#define an output array\n",
      "nx = 500 #number of samples in x direction (assume 1m cells)\n",
      "ns = 1000 #number of samples in z direction (assume 1ms cells)\n",
      "\n",
      "output = np.zeros((nx, ns), 'f')"
     ],
     "language": "python",
     "metadata": {},
     "outputs": [],
     "prompt_number": 8
    },
    {
     "cell_type": "code",
     "collapsed": false,
     "input": [
      "import toolbox\n",
      "model = toolbox.build_model()\n",
      "pylab.imshow(model['model']['vp'].T, aspect='auto')"
     ],
     "language": "python",
     "metadata": {},
     "outputs": [
      {
       "metadata": {},
       "output_type": "pyout",
       "prompt_number": 9,
       "text": [
        "<matplotlib.image.AxesImage at 0x7f21a6a34650>"
       ]
      },
      {
       "metadata": {},
       "output_type": "display_data",
       "png": "[encoded data removed]",
       "text": [
        "<matplotlib.figure.Figure at 0x7f21c06b3250>"
       ]
      }
     ],
     "prompt_number": 9
    },
    {
     "cell_type": "code",
     "collapsed": false,
     "input": [
      "direct = np.zeros_like(output)\n",
      "#direct. assume speed of sound (330m/s)\n",
      "v = 330.0\n",
      "x_locs = np.abs(np.arange(500) - sx_coords[0])\n",
      "t_locs = (x_locs/v)*1000\n",
      "t = np.floor(t_locs[t_locs < 1000]).astype(np.int)\n",
      "x = np.arange(500)[t_locs < 1000].astype(np.int)\n",
      "amps = np.ones_like(x, 'f')*diverge(x_locs[t_locs < 1000])\n",
      "amps[np.argmax(amps)] = amps[np.argmax(amps)+1]\n",
      "\n",
      "\n",
      "amps *= 0.05\n",
      "\n",
      "direct[x,t]= amps\n",
      "#pylab.imshow(output.T, aspect='auto')\n",
      "\n",
      "sutype = su.typeSU(1000)\n",
      "data = np.zeros(500, dtype=sutype)\n",
      "data['gx'] = range(1, 501)\n",
      "data['tracl'] = range(1,501)\n",
      "data['sx'] = 120\n",
      "data['offset'] = data['gx'] - data['sx']\n",
      "data['cdp'] = (data['sx']+data['gx'])/2\n",
      "data['trace'] = direct.astype(np.float32)\n",
      "data['ns'] = 1000\n",
      "data['dt'] = 1000\n",
      "su.writeSU(data, \"direct.su\")"
     ],
     "language": "python",
     "metadata": {},
     "outputs": [
      {
       "output_type": "stream",
       "stream": "stderr",
       "text": [
        "-c:2: RuntimeWarning: divide by zero encountered in divide\n"
       ]
      }
     ],
     "prompt_number": 10
    },
    {
     "cell_type": "code",
     "collapsed": false,
     "input": [
      "#refraction\n",
      "refraction = np.zeros_like(output)\n",
      "\n",
      "def refract(x, v0, v1, z0):\n",
      "    ic = np.arcsin(v0/v1)\n",
      "    t0 = 2.0*z0*np.cos(ic)/v0\n",
      "    t = t0 + x/v1\n",
      "    return t\n",
      "\n",
      "z0 = model['dz'][0]\n",
      "v0 = model['vp'][0]\n",
      "v1 = model['vp'][1]\n",
      "\n",
      "x_locs = np.abs(np.arange(500) - sx_coords[0])\n",
      "\n",
      "tt = np.floor((refract(x_locs, v0, v1, z0)*1000.0)).astype(np.int)\n",
      "\n",
      "xx = np.arange(500).astype(np.int)\n",
      "\n",
      "ampr = np.ones_like(xx, 'f')*diverge(x_locs[tt < 1000])\n",
      "ampr[np.argmax(ampr)] = 0\n",
      "\n",
      "ampr *= 0.1\n",
      "refraction[xx,tt] += ampr\n",
      "\n",
      "tmin = np.ceil((z0*2.2/v0)*1000).astype(np.int)\n",
      "refraction[:,:tmin] = 0\n",
      "\n",
      "#pylab.imshow(refraction.T, aspect='auto')\n",
      "sutype = su.typeSU(1000)\n",
      "data = np.zeros(500, dtype=sutype)\n",
      "data['gx'] = range(1, 501)\n",
      "data['tracl'] = range(1,501)\n",
      "data['sx'] = 120\n",
      "data['offset'] = data['gx'] - data['sx']\n",
      "data['cdp'] = (data['sx']+data['gx'])/2\n",
      "data['trace'] = refraction.astype(np.float32)\n",
      "data['ns'] = 1000\n",
      "data['dt'] = 1000\n",
      "su.writeSU(data, \"refraction.su\")"
     ],
     "language": "python",
     "metadata": {},
     "outputs": [],
     "prompt_number": 11
    },
    {
     "cell_type": "code",
     "collapsed": false,
     "input": [],
     "language": "python",
     "metadata": {},
     "outputs": []
    },
    {
     "cell_type": "code",
     "collapsed": false,
     "input": [
      "#calculate traveltimes and amplitudes for each reflection point\n",
      "num = 100\n",
      "vp = model['model']['vp']\n",
      "rho = model['model']['rho']\n",
      "R = model['model']['R']\n",
      "\n",
      "\n",
      "reflection = np.zeros_like(output)\n",
      "\n",
      "gxs = np.arange(0.0,500.0)\n",
      "sx = 120\n",
      "sz = 0\n",
      "gz = 0\n",
      "\n",
      "for gx in gxs:\n",
      "    cmpx = np.floor((gx + sx)/2.).astype(np.int)\n",
      "    h = cmpx - sx\n",
      "    for cmpz in (np.nonzero(R[cmpx,:])[0]):\n",
      "        ds = np.sqrt(cmpz**2 + (h)**2)/float(num) # line step distance\n",
      "        #predefine outputs\n",
      "        amp = 1.0\n",
      "        time = 0.0\n",
      "\n",
      "        #traveltime from source to cdp\n",
      "        vp_down = toolbox.find_points(sx, sz, cmpx, cmpz, num, vp)\n",
      "        time += np.sum(ds/vp_down)\n",
      "\n",
      "        #traveltime from cdp to geophone\n",
      "        vp_up = toolbox.find_points(cmpx, cmpz, gx, gz, num, vp)\n",
      "        time += np.sum(ds/vp_up)\n",
      "\n",
      "        #loss due to spherical divergence\n",
      "        amp *= diverge(ds*num*2)\n",
      "\n",
      "\n",
      "        #transmission losses from source to cdp\n",
      "        rho_down = toolbox.find_points(sx, sz, cmpx, cmpz, num, rho)\n",
      "        z0 = rho_down * vp_down\n",
      "        z1 = np.roll(z0, shift=1)\n",
      "        z1[0] = z0[0]\n",
      "        z1[-1] = z0[-1]\n",
      "        correction = np.cumprod(transmission_coefficient(z0, z1))[-1]\n",
      "        amp *= correction\n",
      "\n",
      "        #amplitude loss at reflection point\n",
      "        correction = R[cmpx,cmpz]\n",
      "        amp *= correction\n",
      "\n",
      "        #transmission loss from cdp to source\n",
      "        rho_up = toolbox.find_points(cmpx, cmpz, gx, gz, num, rho)\n",
      "        z0 = rho_up * vp_up\n",
      "        z1 = np.roll(z0, shift=-1)\n",
      "        z1[0] = z0[0]\n",
      "        z1[-1] = z0[-1]\n",
      "        correction = np.cumprod(transmission_coefficient(z0, z1))[-1]\n",
      "        amp *= correction\n",
      "\n",
      "        z = np.floor(time*1000).astype(np.int)\n",
      "        x = np.floor(gx).astype(np.int)    \n",
      "        reflection[x, z] += amp\n",
      "\n",
      "sutype = su.typeSU(1000)\n",
      "data = np.zeros(500, dtype=sutype)\n",
      "data['gx'] = range(1, 501)\n",
      "data['tracl'] = range(1,501)\n",
      "data['sx'] = 120\n",
      "data['offset'] = data['gx'] - data['sx']\n",
      "data['cdp'] = (data['sx']+data['gx'])/2\n",
      "data['trace'] = reflection.astype('f4')\n",
      "data['ns'] = 1000\n",
      "data['dt'] = 1000\n",
      "su.writeSU(data, \"reflection.su\")\n",
      "    \n"
     ],
     "language": "python",
     "metadata": {},
     "outputs": [
      {
       "output_type": "stream",
       "stream": "stdout",
       "text": [
        "(500, 380)\n"
       ]
      }
     ],
     "prompt_number": 12
    },
    {
     "cell_type": "code",
     "collapsed": false,
     "input": [
      "#check traveltimes d/v\n",
      "#print 1000*20./800\n",
      "#print record[np.nonzero(record)]"
     ],
     "language": "python",
     "metadata": {},
     "outputs": [],
     "prompt_number": 13
    },
    {
     "cell_type": "code",
     "collapsed": false,
     "input": [
      "noise = np.random.normal(0.0, 1e-9, size=(output.shape))\n",
      "output = direct + refraction + reflection + noise\n",
      "output /= np.amax(output)\n",
      "record = np.apply_along_axis(lambda m: np.convolve(m, wavelet, mode='same'), axis=1, arr=output)"
     ],
     "language": "python",
     "metadata": {},
     "outputs": [],
     "prompt_number": 14
    },
    {
     "cell_type": "code",
     "collapsed": false,
     "input": [
      "\n",
      "sutype = su.typeSU(1000)\n",
      "data = np.zeros(500, dtype=sutype)\n",
      "data['gx'] = range(1, 501)\n",
      "data['tracl'] = range(1,501)\n",
      "data['sx'] = 120\n",
      "data['offset'] = data['gx'] - data['sx']\n",
      "data['cdp'] = (data['sx']+data['gx'])/2\n",
      "data['trace'] = record.astype('f4')\n",
      "data['ns'] = 1000\n",
      "data['dt'] = 1000\n",
      "data = data[::2]\n",
      "su.writeSU(data, \"record.su\")"
     ],
     "language": "python",
     "metadata": {},
     "outputs": [],
     "prompt_number": 15
    },
    {
     "cell_type": "markdown",
     "metadata": {},
     "source": [
      "![](images/two-way-check.png)"
     ]
    },
    {
     "cell_type": "raw",
     "metadata": {},
     "source": []
    },
    {
     "cell_type": "code",
     "collapsed": false,
     "input": [
      "\n",
      "#top of coals will be 2*(time(a) + time(b))\n",
      "sx = 120\n",
      "gx = np.arange(122,300)\n",
      "z0, z1, z2, z3 = 20., 40., 20., 100.\n",
      "v0, v1, v2, v3 = 800., 2200., 1800., 2400.\n",
      "h = (gx - sx)/2.\n",
      "i1 = np.arctan(h/(z0+z1))\n",
      "l_a = z0/np.cos(i1)\n",
      "l_b = z1/np.cos(i1)\n",
      "t_ab = (l_a/v0) + (l_b/v1)\n",
      "tt_1 = t_ab*2\n",
      "\n",
      "i2 = np.arctan(h/(z0+z1+z2))\n",
      "l_c = z0/np.cos(i2)\n",
      "l_d = z1/np.cos(i2)\n",
      "l_e = z2/np.cos(i2)\n",
      "t_cde = (l_c/v0) + (l_d/v1) + (l_e/v2)\n",
      "tt_2 = t_cde*2\n",
      "\n",
      "plot(tt_1)\n",
      "plot(tt_2)\n",
      "ylim([0.4,0])\n",
      "print tt_1[-1], tt_2[-1]"
     ],
     "language": "python",
     "metadata": {},
     "outputs": [
      {
       "output_type": "stream",
       "stream": "stdout",
       "text": [
        "0.155095949338 0.16293674658\n"
       ]
      },
      {
       "metadata": {},
       "output_type": "display_data",
       "png": "[encoded data removed]",
       "text": [
        "<matplotlib.figure.Figure at 0x7f21a6a50a90>"
       ]
      }
     ],
     "prompt_number": 16
    }
   ],
   "metadata": {}
  }
 ]
}