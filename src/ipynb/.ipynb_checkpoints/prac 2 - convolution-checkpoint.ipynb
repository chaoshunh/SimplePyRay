{
 "metadata": {
  "name": "",
  "signature": "sha256:a2b55afd3966c02974a1284243d64475e85e32d4cecde3f96a42addaf0f1d05e"
 },
 "nbformat": 3,
 "nbformat_minor": 0,
 "worksheets": [
  {
   "cells": [
    {
     "cell_type": "code",
     "collapsed": false,
     "input": [
      "import toolbox\n",
      "from IPython.display import HTML\n",
      "import matplotlib.pyplot as pylab"
     ],
     "language": "python",
     "metadata": {},
     "outputs": [],
     "prompt_number": 1
    },
    {
     "cell_type": "markdown",
     "metadata": {},
     "source": [
      "#convolution of a wavelet\n",
      "\n",
      "Remember that the convolutional model states that\n",
      "\n",
      "$$Y(t) = S(t) * E(t) * R(t) + N(t)$$\n",
      "\n",
      "where\n",
      "* Y(t) = recorded signal\n",
      "* E(t) = earth response\n",
      "* S(t) = source wavelet\n",
      "* R(t) = reciever response\n",
      "* N(t) = some noise\n",
      "\n",
      "So what actually is convolution?"
     ]
    },
    {
     "cell_type": "code",
     "collapsed": false,
     "input": [
      "HTML('<iframe src=http://en.wikipedia.org/wiki/Convolution#Definition width=1000 height=240</iframe>')"
     ],
     "language": "python",
     "metadata": {},
     "outputs": [
      {
       "html": [
        "<iframe src=http://en.wikipedia.org/wiki/Convolution#Definition width=1000 height=240</iframe>"
       ],
       "metadata": {},
       "output_type": "pyout",
       "prompt_number": 73,
       "text": [
        "<IPython.core.display.HTML at 0x7f34cc45a0d0>"
       ]
      }
     ],
     "prompt_number": 73
    },
    {
     "cell_type": "code",
     "collapsed": false,
     "input": [
      "%pylab tk\n",
      "x = np.linspace(start=0, stop=1, num=500)\n",
      "y1 = np.zeros(500)\n",
      "y1[200:300] = 1.0\n",
      "y2 = np.zeros(500)\n",
      "y2[:50] = 0.5\n",
      "\n",
      "y3 = np.zeros(500)\n",
      "y3[225:275] = 0.5\n",
      "y4 = np.convolve(y1, y3, mode='same')\n",
      "\n",
      "roll = 0\n",
      "loc = 25\n",
      "\n",
      "def key_event(e):\n",
      "    global roll, y2, loc\n",
      "    if e.key == \"right\":\n",
      "        roll = 10\n",
      "    elif e.key == \"left\":\n",
      "        roll= -10\n",
      "    else:\n",
      "        return\n",
      "    \n",
      "    loc += roll\n",
      "    \n",
      "    y2 = np.roll(y2, roll)\n",
      "    \n",
      "    \n",
      "    \n",
      "    ax.cla()\n",
      "    ax.plot(x, y2, 'r')\n",
      "    ax.plot(x, y1, 'b')\n",
      "    ax.fill_between(x, 0, y2, where=(y1 != 0) & (y2 != 0))\n",
      "    ax.set_ylim(-0.5, 2)\n",
      "    ax1.cla()\n",
      "    ax1.plot(x[:loc], y4[:loc])\n",
      "    ax1.set_xlim(0, 1)\n",
      "    ax1.set_ylim(-1, 50)\n",
      "    fig.canvas.draw()\n",
      "\n",
      "fig = plt.figure()\n",
      "fig.canvas.mpl_connect('key_press_event', key_event)\n",
      "ax = fig.add_subplot(211)\n",
      "ax.plot(x, y1, 'b')\n",
      "ax.plot(x, y2, 'r')\n",
      "ax.set_ylim(-0.5, 2)\n",
      "ax1 = fig.add_subplot(212)\n",
      "plt.show()\n",
      "\n"
     ],
     "language": "python",
     "metadata": {},
     "outputs": [
      {
       "output_type": "stream",
       "stream": "stdout",
       "text": [
        "Populating the interactive namespace from numpy and matplotlib\n"
       ]
      },
      {
       "output_type": "stream",
       "stream": "stderr",
       "text": [
        "WARNING: pylab import has clobbered these variables: ['roll']\n",
        "`%matplotlib` prevents importing * from pylab and numpy\n"
       ]
      }
     ],
     "prompt_number": 74
    },
    {
     "cell_type": "code",
     "collapsed": false,
     "input": [
      "%pylab inline\n",
      "\n",
      "pylab.rcParams['figure.figsize'] = (10.0, 8.0)\n",
      "wavelet = toolbox.ricker(60)\n",
      "plot(wavelet)\n",
      "\n"
     ],
     "language": "python",
     "metadata": {},
     "outputs": [
      {
       "output_type": "stream",
       "stream": "stdout",
       "text": [
        "Populating the interactive namespace from numpy and matplotlib\n"
       ]
      },
      {
       "output_type": "stream",
       "stream": "stderr",
       "text": [
        "WARNING: pylab import has clobbered these variables: ['pylab']\n",
        "`%matplotlib` prevents importing * from pylab and numpy\n"
       ]
      },
      {
       "metadata": {},
       "output_type": "pyout",
       "prompt_number": 3,
       "text": [
        "[<matplotlib.lines.Line2D at 0x7f34cd9ea550>]"
       ]
      },
      {
       "metadata": {},
       "output_type": "display_data",
       "png": "[encoded data removed]",
       "text": [
        "<matplotlib.figure.Figure at 0x7f34f45fc110>"
       ]
      }
     ],
     "prompt_number": 3
    },
    {
     "cell_type": "code",
     "collapsed": false,
     "input": [
      "x = np.linspace(start=0, stop=1, num=1000)\n",
      "y1 = np.zeros(1000)\n",
      "y1[200] = -0.5\n",
      "y1[250] = 0.3\n",
      "y1[400] = 0.1\n",
      "noise = np.random.normal(0.0, 1e-2, size=(1000))\n",
      "y1 += noise\n",
      "y2 = np.zeros(1000)\n",
      "y2[:wavelet.size] = wavelet\n",
      "\n",
      "y3 = y2.copy()\n",
      "y3 = np.roll(y3, 500- wavelet.size/2 -5)\n",
      "y4 = np.convolve(y1, y3, mode='same')\n",
      "\n",
      "roll = 0\n",
      "loc = 25\n",
      "\n",
      "def key_event(e):\n",
      "    global roll, y2, loc\n",
      "    if e.key == \"right\":\n",
      "        roll = 10\n",
      "    elif e.key == \"left\":\n",
      "        roll= -10\n",
      "    else:\n",
      "        return\n",
      "    \n",
      "    loc += roll\n",
      "    \n",
      "    y2 = np.roll(y2, roll)\n",
      "    \n",
      "    \n",
      "    \n",
      "    ax.cla()\n",
      "    ax.plot(x, y2, 'r')\n",
      "    ax.plot(x, y1, 'b')\n",
      "    ax.fill_between(x, 0, y1, where=(y1 != 0) & (y2 != 0))\n",
      "    ax.set_ylim(-1, 1)\n",
      "    ax1.cla()\n",
      "    ax1.plot(x[:loc], y4[:loc])\n",
      "    ax1.set_xlim(0, 1)\n",
      "    ax1.set_ylim(-1, 1)\n",
      "    fig.canvas.draw()\n",
      "\n",
      "fig = plt.figure()\n",
      "fig.canvas.mpl_connect('key_press_event', key_event)\n",
      "ax = fig.add_subplot(211)\n",
      "ax.plot(x, y1, 'b')\n",
      "ax.plot(x, y2, 'r')\n",
      "ax.set_ylim(-1, 1)\n",
      "ax1 = fig.add_subplot(212)\n",
      "plt.show()\n"
     ],
     "language": "python",
     "metadata": {},
     "outputs": [],
     "prompt_number": 75
    },
    {
     "cell_type": "code",
     "collapsed": false,
     "input": [],
     "language": "python",
     "metadata": {},
     "outputs": []
    }
   ],
   "metadata": {}
  }
 ]
}