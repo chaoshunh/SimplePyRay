{
 "metadata": {
  "name": "",
  "signature": "sha256:64ce0e153b2fc9a81042392e1f9866cabbea920126de6e3331187c1530d8f2b5"
 },
 "nbformat": 3,
 "nbformat_minor": 0,
 "worksheets": [
  {
   "cells": [
    {
     "cell_type": "code",
     "collapsed": false,
     "input": [
      "from IPython.display import HTML\n",
      "HTML('<iframe src=http://www.subsurfwiki.org/mediawiki/images/f/fe/Basic_gathers.svg width=1000 height=640</iframe>')"
     ],
     "language": "python",
     "metadata": {},
     "outputs": [
      {
       "html": [
        "<iframe src=http://www.subsurfwiki.org/mediawiki/images/f/fe/Basic_gathers.svg width=1000 height=640</iframe>"
       ],
       "metadata": {},
       "output_type": "pyout",
       "prompt_number": 4,
       "text": [
        "<IPython.core.display.HTML at 0x7fa29c408710>"
       ]
      }
     ],
     "prompt_number": 4
    }
   ],
   "metadata": {}
  }
 ]
}