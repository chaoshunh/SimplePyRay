{
 "metadata": {
  "name": "",
  "signature": "sha256:76ec8628eae05326d4bb6e38af48b0d85c164b8725f1352bbd36c32d42930bf2"
 },
 "nbformat": 3,
 "nbformat_minor": 0,
 "worksheets": []
}